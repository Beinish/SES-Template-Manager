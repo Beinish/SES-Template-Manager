{
 "cells": [
  {
   "cell_type": "code",
   "execution_count": 1,
   "metadata": {},
   "outputs": [],
   "source": [
    "import boto3"
   ]
  },
  {
   "cell_type": "code",
   "execution_count": 4,
   "metadata": {},
   "outputs": [],
   "source": [
    "ses = boto3.client('ses')"
   ]
  },
  {
   "cell_type": "code",
   "execution_count": 24,
   "metadata": {},
   "outputs": [],
   "source": [
    "def get_templates():\n",
    "    templates_list = []\n",
    "    response = ses.list_templates()\n",
    "    for template in response['TemplatesMetadata']:\n",
    "        templates_list.append(template['Name'])\n",
    "\n",
    "    return templates_list"
   ]
  },
  {
   "cell_type": "code",
   "execution_count": 29,
   "metadata": {},
   "outputs": [
    {
     "name": "stdout",
     "output_type": "stream",
     "text": [
      "Template2\n",
      "Template1\n"
     ]
    }
   ],
   "source": [
    "get_templates()['TemplatesMetadata']\n",
    "for i in get_templates()['TemplatesMetadata']:\n",
    "    print(i['Name'])"
   ]
  }
 ],
 "metadata": {
  "kernelspec": {
   "display_name": "Python 3.10.4 ('SES_venv': venv)",
   "language": "python",
   "name": "python3"
  },
  "language_info": {
   "codemirror_mode": {
    "name": "ipython",
    "version": 3
   },
   "file_extension": ".py",
   "mimetype": "text/x-python",
   "name": "python",
   "nbconvert_exporter": "python",
   "pygments_lexer": "ipython3",
   "version": "3.10.4 (tags/v3.10.4:9d38120, Mar 23 2022, 23:13:41) [MSC v.1929 64 bit (AMD64)]"
  },
  "orig_nbformat": 4,
  "vscode": {
   "interpreter": {
    "hash": "683302a99168120be6c808480ed9e7821d99bb1edc52188d0ec9c7a059d4298d"
   }
  }
 },
 "nbformat": 4,
 "nbformat_minor": 2
}
